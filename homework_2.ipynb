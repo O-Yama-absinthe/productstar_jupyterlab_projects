{
 "cells": [
  {
   "cell_type": "markdown",
   "id": "relative-effectiveness",
   "metadata": {},
   "source": [
    "Задача: Посчитать продажи в разных разрезах и ответить на вопросы"
   ]
  },
  {
   "cell_type": "code",
   "execution_count": 4,
   "id": "aerial-chemical",
   "metadata": {},
   "outputs": [
    {
     "data": {
      "text/plain": [
       "<AxesSubplot:xlabel='city'>"
      ]
     },
     "execution_count": 4,
     "metadata": {},
     "output_type": "execute_result"
    },
    {
     "data": {
      "image/png": "[encoded data removed]",
      "text/plain": [
       "<Figure size 432x288 with 1 Axes>"
      ]
     },
     "metadata": {
      "needs_background": "light"
     },
     "output_type": "display_data"
    }
   ],
   "source": [
    "'''В каком городе самые большие продажи?\n",
    "Здесь нам поможет простая группировка.\n",
    "Загружаем данные из БД(sqlite) с помощью sqlalchemy и pandas'''\n",
    "import sqlalchemy as sa\n",
    "import pandas as pd\n",
    "import matplotlib.pyplot as plt\n",
    "engine = sa.create_engine('sqlite:///hw.db')\n",
    "meta = sa.MetaData()\n",
    "meta.reflect(bind=engine)\n",
    "\n",
    "prd_df = meta.tables['t']\n",
    "sql = sa.select([prd_df])\n",
    "\n",
    "with engine.connect() as cn:\n",
    "    df = pd.read_sql(sql, cn)\n",
    "cn.close()\n",
    "\n",
    "#с помощью matplotlib строим график продаж по городам\n",
    "\n",
    "df['date'] = pd.to_datetime(df['date'])\n",
    "df.groupby('city').sum()['total'].plot()"
   ]
  },
  {
   "cell_type": "code",
   "execution_count": 5,
   "id": "sweet-injection",
   "metadata": {},
   "outputs": [
    {
     "data": {
      "text/plain": [
       "<AxesSubplot:xlabel='city'>"
      ]
     },
     "execution_count": 5,
     "metadata": {},
     "output_type": "execute_result"
    },
    {
     "data": {
      "image/png": "[encoded data removed]",
      "text/plain": [
       "<Figure size 432x288 with 1 Axes>"
      ]
     },
     "metadata": {
      "needs_background": "light"
     },
     "output_type": "display_data"
    }
   ],
   "source": [
    "#Есть ли различия в средней цене проданного по городам?\n",
    "\n",
    "df.groupby('city').sum().assign(avg = lambda x: x.total/x.qty)['avg'].plot()"
   ]
  },
  {
   "cell_type": "code",
   "execution_count": 11,
   "id": "isolated-hearts",
   "metadata": {},
   "outputs": [
    {
     "data": {
      "text/html": [
       "<div>\n",
       "<style scoped>\n",
       "    .dataframe tbody tr th:only-of-type {\n",
       "        vertical-align: middle;\n",
       "    }\n",
       "\n",
       "    .dataframe tbody tr th {\n",
       "        vertical-align: top;\n",
       "    }\n",
       "\n",
       "    .dataframe thead th {\n",
       "        text-align: right;\n",
       "    }\n",
       "</style>\n",
       "<table border=\"1\" class=\"dataframe\">\n",
       "  <thead>\n",
       "    <tr style=\"text-align: right;\">\n",
       "      <th></th>\n",
       "      <th>index</th>\n",
       "      <th>city</th>\n",
       "      <th>qty</th>\n",
       "      <th>total</th>\n",
       "    </tr>\n",
       "    <tr>\n",
       "      <th>item</th>\n",
       "      <th></th>\n",
       "      <th></th>\n",
       "      <th></th>\n",
       "      <th></th>\n",
       "    </tr>\n",
       "  </thead>\n",
       "  <tbody>\n",
       "    <tr>\n",
       "      <th>257</th>\n",
       "      <td>768617909</td>\n",
       "      <td>224</td>\n",
       "      <td>21245</td>\n",
       "      <td>108625685</td>\n",
       "    </tr>\n",
       "    <tr>\n",
       "      <th>94</th>\n",
       "      <td>857753062</td>\n",
       "      <td>379</td>\n",
       "      <td>28504</td>\n",
       "      <td>108144176</td>\n",
       "    </tr>\n",
       "    <tr>\n",
       "      <th>1070</th>\n",
       "      <td>818061369</td>\n",
       "      <td>309</td>\n",
       "      <td>25525</td>\n",
       "      <td>107868650</td>\n",
       "    </tr>\n",
       "    <tr>\n",
       "      <th>1138</th>\n",
       "      <td>999005350</td>\n",
       "      <td>575</td>\n",
       "      <td>36812</td>\n",
       "      <td>107527852</td>\n",
       "    </tr>\n",
       "    <tr>\n",
       "      <th>144</th>\n",
       "      <td>985049862</td>\n",
       "      <td>523</td>\n",
       "      <td>34447</td>\n",
       "      <td>107267958</td>\n",
       "    </tr>\n",
       "    <tr>\n",
       "      <th>503</th>\n",
       "      <td>1105231773</td>\n",
       "      <td>719</td>\n",
       "      <td>48345</td>\n",
       "      <td>107035830</td>\n",
       "    </tr>\n",
       "    <tr>\n",
       "      <th>516</th>\n",
       "      <td>962710433</td>\n",
       "      <td>502</td>\n",
       "      <td>33672</td>\n",
       "      <td>106874928</td>\n",
       "    </tr>\n",
       "    <tr>\n",
       "      <th>375</th>\n",
       "      <td>1040662025</td>\n",
       "      <td>639</td>\n",
       "      <td>41234</td>\n",
       "      <td>106713592</td>\n",
       "    </tr>\n",
       "    <tr>\n",
       "      <th>878</th>\n",
       "      <td>1358369590</td>\n",
       "      <td>1147</td>\n",
       "      <td>69810</td>\n",
       "      <td>106669680</td>\n",
       "    </tr>\n",
       "    <tr>\n",
       "      <th>1165</th>\n",
       "      <td>1137826937</td>\n",
       "      <td>793</td>\n",
       "      <td>48610</td>\n",
       "      <td>106601730</td>\n",
       "    </tr>\n",
       "  </tbody>\n",
       "</table>\n",
       "</div>"
      ],
      "text/plain": [
       "           index  city    qty      total\n",
       "item                                    \n",
       "257    768617909   224  21245  108625685\n",
       "94     857753062   379  28504  108144176\n",
       "1070   818061369   309  25525  107868650\n",
       "1138   999005350   575  36812  107527852\n",
       "144    985049862   523  34447  107267958\n",
       "503   1105231773   719  48345  107035830\n",
       "516    962710433   502  33672  106874928\n",
       "375   1040662025   639  41234  106713592\n",
       "878   1358369590  1147  69810  106669680\n",
       "1165  1137826937   793  48610  106601730"
      ]
     },
     "execution_count": 11,
     "metadata": {},
     "output_type": "execute_result"
    }
   ],
   "source": [
    "#Какой товар продаётся лучше всего?\n",
    "\n",
    "df.groupby('item').sum().sort_values(by='total', ascending=False).head(10)"
   ]
  },
  {
   "cell_type": "code",
   "execution_count": 14,
   "id": "fatty-coaching",
   "metadata": {},
   "outputs": [
    {
     "data": {
      "text/plain": [
       "<AxesSubplot:>"
      ]
     },
     "execution_count": 14,
     "metadata": {},
     "output_type": "execute_result"
    },
    {
     "data": {
      "image/png": "[encoded data removed]",
      "text/plain": [
       "<Figure size 432x288 with 1 Axes>"
      ]
     },
     "metadata": {
      "needs_background": "light"
     },
     "output_type": "display_data"
    }
   ],
   "source": [
    "#Как распределена средняя цена проданного товара?\n",
    "\n",
    "df.groupby('item').sum().assign(avg = lambda x: x.total/x.qty)['avg'].hist()"
   ]
  },
  {
   "cell_type": "code",
   "execution_count": 19,
   "id": "technical-brisbane",
   "metadata": {},
   "outputs": [
    {
     "data": {
      "text/html": [
       "<div>\n",
       "<style scoped>\n",
       "    .dataframe tbody tr th:only-of-type {\n",
       "        vertical-align: middle;\n",
       "    }\n",
       "\n",
       "    .dataframe tbody tr th {\n",
       "        vertical-align: top;\n",
       "    }\n",
       "\n",
       "    .dataframe thead th {\n",
       "        text-align: right;\n",
       "    }\n",
       "</style>\n",
       "<table border=\"1\" class=\"dataframe\">\n",
       "  <thead>\n",
       "    <tr style=\"text-align: right;\">\n",
       "      <th></th>\n",
       "      <th>index</th>\n",
       "      <th>city</th>\n",
       "      <th>qty</th>\n",
       "      <th>total</th>\n",
       "    </tr>\n",
       "    <tr>\n",
       "      <th>item</th>\n",
       "      <th></th>\n",
       "      <th></th>\n",
       "      <th></th>\n",
       "      <th></th>\n",
       "    </tr>\n",
       "  </thead>\n",
       "  <tbody>\n",
       "    <tr>\n",
       "      <th>1151</th>\n",
       "      <td>83067449</td>\n",
       "      <td>59</td>\n",
       "      <td>4120</td>\n",
       "      <td>9925080</td>\n",
       "    </tr>\n",
       "    <tr>\n",
       "      <th>1148</th>\n",
       "      <td>74874037</td>\n",
       "      <td>49</td>\n",
       "      <td>3013</td>\n",
       "      <td>9897705</td>\n",
       "    </tr>\n",
       "    <tr>\n",
       "      <th>302</th>\n",
       "      <td>71051395</td>\n",
       "      <td>42</td>\n",
       "      <td>3265</td>\n",
       "      <td>9896215</td>\n",
       "    </tr>\n",
       "    <tr>\n",
       "      <th>848</th>\n",
       "      <td>66323109</td>\n",
       "      <td>27</td>\n",
       "      <td>2269</td>\n",
       "      <td>9856536</td>\n",
       "    </tr>\n",
       "    <tr>\n",
       "      <th>65</th>\n",
       "      <td>100659811</td>\n",
       "      <td>90</td>\n",
       "      <td>4970</td>\n",
       "      <td>9771020</td>\n",
       "    </tr>\n",
       "    <tr>\n",
       "      <th>234</th>\n",
       "      <td>82419193</td>\n",
       "      <td>53</td>\n",
       "      <td>3210</td>\n",
       "      <td>9758400</td>\n",
       "    </tr>\n",
       "    <tr>\n",
       "      <th>1082</th>\n",
       "      <td>95725409</td>\n",
       "      <td>82</td>\n",
       "      <td>4995</td>\n",
       "      <td>9620370</td>\n",
       "    </tr>\n",
       "    <tr>\n",
       "      <th>986</th>\n",
       "      <td>104500061</td>\n",
       "      <td>98</td>\n",
       "      <td>5253</td>\n",
       "      <td>9612990</td>\n",
       "    </tr>\n",
       "    <tr>\n",
       "      <th>1015</th>\n",
       "      <td>63475762</td>\n",
       "      <td>23</td>\n",
       "      <td>1993</td>\n",
       "      <td>9490666</td>\n",
       "    </tr>\n",
       "    <tr>\n",
       "      <th>372</th>\n",
       "      <td>108919790</td>\n",
       "      <td>106</td>\n",
       "      <td>5792</td>\n",
       "      <td>9487296</td>\n",
       "    </tr>\n",
       "  </tbody>\n",
       "</table>\n",
       "</div>"
      ],
      "text/plain": [
       "          index  city   qty    total\n",
       "item                                \n",
       "1151   83067449    59  4120  9925080\n",
       "1148   74874037    49  3013  9897705\n",
       "302    71051395    42  3265  9896215\n",
       "848    66323109    27  2269  9856536\n",
       "65    100659811    90  4970  9771020\n",
       "234    82419193    53  3210  9758400\n",
       "1082   95725409    82  4995  9620370\n",
       "986   104500061    98  5253  9612990\n",
       "1015   63475762    23  1993  9490666\n",
       "372   108919790   106  5792  9487296"
      ]
     },
     "execution_count": 19,
     "metadata": {},
     "output_type": "execute_result"
    }
   ],
   "source": [
    "#Какой товар лучше всего продаётся в июне?\n",
    "\n",
    "df['month'] = df['date'].dt.month_name()\n",
    "df[(df['month']=='June')].groupby('item').sum().sort_values(by='total', ascending=False).head(10)"
   ]
  }
 ],
 "metadata": {
  "kernelspec": {
   "display_name": "Python 3",
   "language": "python",
   "name": "python3"
  },
  "language_info": {
   "codemirror_mode": {
    "name": "ipython",
    "version": 3
   },
   "file_extension": ".py",
   "mimetype": "text/x-python",
   "name": "python",
   "nbconvert_exporter": "python",
   "pygments_lexer": "ipython3",
   "version": "3.9.0"
  }
 },
 "nbformat": 4,
 "nbformat_minor": 5
}
